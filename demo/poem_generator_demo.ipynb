{
  "nbformat": 4,
  "nbformat_minor": 0,
  "metadata": {
    "colab": {
      "name": "poem-generator_demo.ipynb",
      "provenance": [],
      "collapsed_sections": []
    },
    "kernelspec": {
      "name": "python3",
      "display_name": "Python 3"
    }
  },
  "cells": [
    {
      "cell_type": "markdown",
      "metadata": {
        "id": "ukzHXfNDHXFl"
      },
      "source": [
        "# Demo for Poem Generator"
      ]
    },
    {
      "cell_type": "markdown",
      "metadata": {
        "id": "fYMuHVMMHgpD"
      },
      "source": [
        "**Clone repository**"
      ]
    },
    {
      "cell_type": "code",
      "metadata": {
        "id": "VlSFmRy0HZni"
      },
      "source": [
        "!git clone https://github.com/reshalfahsi/poem-generator"
      ],
      "execution_count": null,
      "outputs": []
    },
    {
      "cell_type": "code",
      "metadata": {
        "id": "xNlmqjFxHthT"
      },
      "source": [
        "%cd /content/poem-generator"
      ],
      "execution_count": null,
      "outputs": []
    },
    {
      "cell_type": "markdown",
      "metadata": {
        "id": "iKAKHQZRHyGZ"
      },
      "source": [
        "**Mount your Google drive folder on Colab**"
      ]
    },
    {
      "cell_type": "code",
      "metadata": {
        "id": "W4HpxIWtH1Bx"
      },
      "source": [
        "from google.colab import drive\n",
        "drive.mount('/content/gdrive')"
      ],
      "execution_count": null,
      "outputs": []
    },
    {
      "cell_type": "markdown",
      "metadata": {
        "id": "w2qOl6pXH6M_"
      },
      "source": [
        "**Demo time!**"
      ]
    }
  ]
}